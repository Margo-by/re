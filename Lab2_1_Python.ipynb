{
  "nbformat": 4,
  "nbformat_minor": 0,
  "metadata": {
    "colab": {
      "provenance": [],
      "authorship_tag": "ABX9TyPqveYyI2SMEwPieHJzhVCS",
      "include_colab_link": true
    },
    "kernelspec": {
      "name": "python3",
      "display_name": "Python 3"
    },
    "language_info": {
      "name": "python"
    }
  },
  "cells": [
    {
      "cell_type": "markdown",
      "metadata": {
        "id": "view-in-github",
        "colab_type": "text"
      },
      "source": [
        "<a href=\"https://colab.research.google.com/github/Margo-by/re/blob/main/Lab2_1_Python.ipynb\" target=\"_parent\"><img src=\"https://colab.research.google.com/assets/colab-badge.svg\" alt=\"Open In Colab\"/></a>"
      ]
    },
    {
      "cell_type": "code",
      "execution_count": 2,
      "metadata": {
        "colab": {
          "base_uri": "https://localhost:8080/"
        },
        "id": "aCqC72pUtOTa",
        "outputId": "c87545e6-e4ef-4441-a33c-bfb98461d49a"
      },
      "outputs": [
        {
          "output_type": "stream",
          "name": "stdout",
          "text": [
            "Введите первое число: 4\n",
            "Введите второе число: 4\n",
            "Введите третье число: 5\n",
            "Наибольшее из введенных чисел: 5\n"
          ]
        }
      ],
      "source": [
        "# Задание 1.  (из  темы  2.2):\n",
        "# a) Введите три числа: a, b, c. Выведите наибольшее из них.\n",
        "a = int(input(\"Введите первое число: \"))\n",
        "b = int(input(\"Введите второе число: \"))\n",
        "c = int(input(\"Введите третье число: \"))\n",
        "print(\"Наибольшее из введенных чисел:\", max(a, b, c))"
      ]
    },
    {
      "cell_type": "code",
      "source": [
        "# Задание 1.b) Введите три целых числа. Определите, сколько среди них совпадающих.\n",
        "# Программа должна вывести одно из чисел: 3 (если все совпадают),\n",
        "# 2 (если два совпадает) или 0 (если все числа различны).\n",
        "numbers = [int(input(\"Введите число: \")) for _ in range(3)]\n",
        "unique_numbers = len(set(numbers))\n",
        "\n",
        "if unique_numbers == 3:\n",
        "    print(\"0\")\n",
        "elif unique_numbers == 2:\n",
        "    print(\"2\")\n",
        "else:\n",
        "    print(\"3\")"
      ],
      "metadata": {
        "colab": {
          "base_uri": "https://localhost:8080/"
        },
        "id": "ZG2pa_nVxJUv",
        "outputId": "fcdc4d5f-c001-4282-aa1b-54cd9a320f3f"
      },
      "execution_count": 5,
      "outputs": [
        {
          "output_type": "stream",
          "name": "stdout",
          "text": [
            "Введите число: 1\n",
            "Введите число: 2\n",
            "Введите число: 1\n",
            "2\n"
          ]
        }
      ]
    },
    {
      "cell_type": "code",
      "source": [
        "# Задание 1.c) Введите натуральное число.\n",
        "# Требуется определить, является ли год с данным номером високосным.\n",
        "# Если год является високосным, то выведите YES, иначе выведите NO.\n",
        "# Напомним, что в соответствии с григорианским календарем,\n",
        "# год является високосным, если его номер кратен 4, но не кратен 100, а также если он кратен 400.\n",
        "\n",
        "year = int(input(\"Введите год: \"))\n",
        "\n",
        "if (year % 4 == 0 and year % 100 != 0) or year % 400 == 0:\n",
        "    print(\"YES\")\n",
        "else:\n",
        "    print(\"NO\")"
      ],
      "metadata": {
        "colab": {
          "base_uri": "https://localhost:8080/"
        },
        "id": "RgT3SDMsxJjD",
        "outputId": "21b5cff4-6e84-4303-fe97-6c7e2576016c"
      },
      "execution_count": 6,
      "outputs": [
        {
          "output_type": "stream",
          "name": "stdout",
          "text": [
            "Введите год: 2024\n",
            "YES\n"
          ]
        }
      ]
    },
    {
      "cell_type": "code",
      "source": [
        "# Задание 1.d) Шахматная ладья ходит по горизонтали или вертикали.\n",
        "#Даны две различные клетки шахматной доски, определите,\n",
        "#может ли ладья попасть с первой клетки на вторую одним ходом.\n",
        "#Программа получает на вход четыре числа от 1 до 8 каждое,\n",
        "#задающие номер столбца и номер строки сначала для первой клетки,\n",
        "#потом для второй клетки. Программа должна вывести YES,\n",
        "#если из первой клетки ходом ладьи можно попасть во вторую или NO в противном случае.\n",
        "\n",
        "x1, y1, x2, y2 = map(int, input(\"Введите координаты двух клеток (x1, y1, x2, y2): \").split())\n",
        "\n",
        "if x1 == x2 or y1 == y2:\n",
        "    print(\"YES\")\n",
        "else:\n",
        "    print(\"NO\")"
      ],
      "metadata": {
        "colab": {
          "base_uri": "https://localhost:8080/"
        },
        "id": "BI3oUbCfxJw1",
        "outputId": "8c4ebd63-bf6d-4611-ae2d-5f6a1a3ec66d"
      },
      "execution_count": 9,
      "outputs": [
        {
          "output_type": "stream",
          "name": "stdout",
          "text": [
            "Введите координаты двух клеток (x1, y1, x2, y2): 1 1 1 2\n",
            "YES\n"
          ]
        }
      ]
    },
    {
      "cell_type": "code",
      "source": [
        "# Задание 2a) Дано целое число, не меньшее 2. Выведите его наименьший натуральный делитель, отличный от 1.\n",
        "number = int(input(\"Введите целое число: \"))\n",
        "for i in range(2, number + 1):\n",
        "    if number % i == 0:\n",
        "        print(\"Наименьший натуральный делитель, отличный от 1:\", i)\n",
        "        break"
      ],
      "metadata": {
        "colab": {
          "base_uri": "https://localhost:8080/"
        },
        "id": "8H2iVje9y2vZ",
        "outputId": "86a88b77-3776-46d7-b07e-cada91d4734f"
      },
      "execution_count": 11,
      "outputs": [
        {
          "output_type": "stream",
          "name": "stdout",
          "text": [
            "Введите целое число: 7\n",
            "Наименьший натуральный делитель, отличный от 1: 7\n"
          ]
        }
      ]
    },
    {
      "cell_type": "code",
      "source": [
        "# Задание 2.b) В первый день спортсмен пробежал x километров,\n",
        "# а затем он каждый день увеличивал пробег на 10% от предыдущего значения.\n",
        "# По данному числу y определите номер дня, на который пробег спортсмена составит не менее y километров.\n",
        "# Программа получает на вход действительные числа x и y и должна вывести одно натуральное число.\n",
        "x = float(input(\"Введите начальный пробег спортсмена: \"))\n",
        "y = float(input(\"Введите желаемый пробег спортсмена: \"))\n",
        "day = 1\n",
        "\n",
        "while x < y:\n",
        "    x *= 1.1\n",
        "    day += 1\n",
        "\n",
        "print(\"Номер дня, на который пробег составит не менее\", y, \"километров:\", day)"
      ],
      "metadata": {
        "colab": {
          "base_uri": "https://localhost:8080/"
        },
        "id": "YX4z9PfkzrK-",
        "outputId": "2d52f3b1-7e33-492b-f254-a087e93055be"
      },
      "execution_count": 12,
      "outputs": [
        {
          "output_type": "stream",
          "name": "stdout",
          "text": [
            "Введите начальный пробег спортсмена: 6\n",
            "Введите желаемый пробег спортсмена: 20\n",
            "Номер дня, на который пробег составит не менее 20.0 километров: 14\n"
          ]
        }
      ]
    },
    {
      "cell_type": "code",
      "source": [
        "# Задание 2.c) Вклад в банке составляет x рублей.\n",
        "#Ежегодно он увеличивается на p процентов, после чего дробная часть копеек отбрасывается.\n",
        "#Определите, через сколько лет вклад составит не менее y рублей.\n",
        "#Выражение «дробная часть копеек отбрасывается» означает, что если у вас оказалось 123.4567 рублей,\n",
        "# т. е. 123 рубля и 45.67 копеек, то после округления у вас получится 123 рубля и 45 копеек, т.е. 123.45 рублей.\n",
        "#Программа получает на вход три натуральных числа: x, p, y  и должна вывести одно целое число.\n",
        "\n",
        "x = float(input(\"Введите сумму вклада: \"))\n",
        "p = float(input(\"Введите годовую процентную ставку: \"))\n",
        "y = float(input(\"Введите желаемую сумму вклада: \"))\n",
        "years = 0\n",
        "\n",
        "while x < y:\n",
        "    x += x * p / 100\n",
        "    x = round(x,2)\n",
        "    years += 1\n",
        "\n",
        "print(\"Через\", int(years), \"лет вклад составит не менее\", int(y), \"рублей.\")\n"
      ],
      "metadata": {
        "colab": {
          "base_uri": "https://localhost:8080/"
        },
        "id": "Hp0KCNQCzrVp",
        "outputId": "c5011e8b-75f0-4fb3-f8ac-df5611a90c76"
      },
      "execution_count": 15,
      "outputs": [
        {
          "output_type": "stream",
          "name": "stdout",
          "text": [
            "Введите сумму вклада: 100\n",
            "Введите годовую процентную ставку: 5\n",
            "Введите желаемую сумму вклада: 5000\n",
            "Через 81 лет вклад составит не менее 5000 рублей.\n"
          ]
        }
      ]
    },
    {
      "cell_type": "code",
      "source": [
        "# Задание 2.d) Дано натуральное число A. Определите, каким по счету числом Фибоначчи оно является,\n",
        "# то есть выведите такое число n, что φn = A. Если А не является числом Фибоначчи, выведите число -1.\n",
        "a = int(input(\"Введите число: \"))\n",
        "fib1, fib2 = 0, 1\n",
        "n = 0\n",
        "\n",
        "while fib1 < a:\n",
        "    fib1, fib2 = fib2, fib1 + fib2\n",
        "    n += 1\n",
        "\n",
        "if fib1 == a:\n",
        "    print(\"Число\", a, \"является\", n, \"-м числом Фибоначчи\")\n",
        "else:\n",
        "    print(\"Число\", a, \"не является числом Фибоначчи\")"
      ],
      "metadata": {
        "colab": {
          "base_uri": "https://localhost:8080/"
        },
        "id": "wzT0JxLTzrdM",
        "outputId": "38decdb7-5937-451f-8509-89e9f8d2dcf5"
      },
      "execution_count": 16,
      "outputs": [
        {
          "output_type": "stream",
          "name": "stdout",
          "text": [
            "Введите число: 50\n",
            "Число 50 не является числом Фибоначчи\n"
          ]
        }
      ]
    },
    {
      "cell_type": "code",
      "source": [
        "# Задание 3.a) Дано натуральное число. Выведите его последнюю цифру.\n",
        "number = int(input(\"Введите натуральное число: \"))\n",
        "print(\"Последняя цифра введенного числа:\", number % 10)"
      ],
      "metadata": {
        "colab": {
          "base_uri": "https://localhost:8080/"
        },
        "id": "9Vv4od082Gv0",
        "outputId": "3e9dcdab-0542-4869-af4d-b4e6b1153185"
      },
      "execution_count": 18,
      "outputs": [
        {
          "output_type": "stream",
          "name": "stdout",
          "text": [
            "Введите натуральное число: 657\n",
            "Последняя цифра введенного числа: 7\n"
          ]
        }
      ]
    },
    {
      "cell_type": "code",
      "source": [
        "# Задание 3.b) Дано положительное действительное число X. Выведите его дробную часть.\n",
        "number = float(input(\"Введите положительное действительное число: \"))\n",
        "N=len(str(number))\n",
        "print(\"Дробная часть числа:\", round(number - int(number),N))"
      ],
      "metadata": {
        "colab": {
          "base_uri": "https://localhost:8080/"
        },
        "id": "sMCbkA-s2c4b",
        "outputId": "0060edbc-fa64-486c-9838-95ecde777825"
      },
      "execution_count": 25,
      "outputs": [
        {
          "output_type": "stream",
          "name": "stdout",
          "text": [
            "Введите положительное действительное число: 67.89\n",
            "Дробная часть числа: 0.89\n"
          ]
        }
      ]
    },
    {
      "cell_type": "code",
      "source": [
        "# Задание 3.c) Дано положительное действительное число X. Выведите его первую цифру после десятичной точки.\n",
        "number = float(input(\"Введите положительное действительное число: \"))\n",
        "fractional_part = number - int(number)\n",
        "first_digit_after_decimal_point = int(str(fractional_part)[2])\n",
        "print(\"Первая цифра после десятичной точки:\", first_digit_after_decimal_point)"
      ],
      "metadata": {
        "colab": {
          "base_uri": "https://localhost:8080/"
        },
        "id": "GlMrIfSJ2c63",
        "outputId": "e5dd0051-de81-459b-f31a-b21350009f1c"
      },
      "execution_count": 19,
      "outputs": [
        {
          "output_type": "stream",
          "name": "stdout",
          "text": [
            "Введите положительное действительное число: 56.342\n",
            "Первая цифра после десятичной точки: 3\n"
          ]
        }
      ]
    },
    {
      "cell_type": "code",
      "source": [
        "# Задание 3.d) По российским правилам числа округляются до ближайшего целого числа,\n",
        "#а если дробная часть числа равна 0.5, то число округляется вверх.\n",
        "#Дано неотрицательное число x, округлите его по этим правилам.\n",
        "#Обратите внимание, что функция round не годится для этой задачи!\n",
        "x = float(input(\"Введите неотрицательное число: \"))\n",
        "rounded_number = int(x + 0.5) if x - int(x) >= 0.5 else int(x)\n",
        "print(\"Округленное число:\", rounded_number)"
      ],
      "metadata": {
        "colab": {
          "base_uri": "https://localhost:8080/"
        },
        "id": "dYGpSKBK2c-B",
        "outputId": "212b177b-f6d7-4993-9e3d-871d38cd9f12"
      },
      "execution_count": 21,
      "outputs": [
        {
          "output_type": "stream",
          "name": "stdout",
          "text": [
            "Введите неотрицательное число: 50.2\n",
            "Округленное число: 50\n"
          ]
        }
      ]
    }
  ]
}